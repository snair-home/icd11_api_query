{
 "cells": [
  {
   "cell_type": "code",
   "execution_count": 6,
   "metadata": {},
   "outputs": [],
   "source": [
    "#  resgister at https://icd.who.int/icdapi to get your client_id and client_secret\n",
    "token_endpoint = 'https://icdaccessmanagement.who.int/connect/token'\n",
    "client_id = ''\n",
    "client_secret = ''\n",
    "scope = 'icdapi_access'\n",
    "grant_type = 'client_credentials'"
   ]
  },
  {
   "cell_type": "code",
   "execution_count": 7,
   "metadata": {},
   "outputs": [],
   "source": [
    "import requests\n",
    "import json\n",
    "\n",
    "# get the OAUTH2 token\n",
    "payload = {'client_id': client_id, 'client_secret': client_secret, 'scope': scope, 'grant_type': grant_type}\n",
    "\n",
    "# request for access token\n",
    "r = requests.post(token_endpoint, data=payload, verify=False).json()\n",
    "token = r['access_token']\n",
    "\n",
    "# set HTTP header fields\n",
    "headers = {'Authorization':  'Bearer '+ token, \n",
    "        'Accept': 'application/json', \n",
    "        'Accept-Language': 'en',\n",
    "        'API-Version': 'v2'}\n",
    "\n",
    "requests.packages.urllib3.disable_warnings()\n",
    "\n",
    "# # access ICD API\n",
    "# # uri = 'https://id.who.int/icd/release/11/2023-01/mms/142052508' # URI for pneumonia ICD11 CA40\n",
    "# # uri='http://id.who.int/icd/release/11/2023-01/mms/1323682030' # URI for pneumonia ICD11 CA40.0\n",
    "# # uri = \"http://id.who.int/icd/release/11/2023-01/mms/1258650683\" # URI for pneumonia ICD11 CA40.00\n",
    "# # uri = 'https://id.who.int/icd/release/11/2023-01/mms/codeinfo/XN8LS'\n",
    "# # uri = 'http://id.who.int/icd/release/11/2023-01/mms/1674014893' # XB25\n",
    "# # uri = 'http://id.who.int/icd/release/11/2023-01/mms/622600769'\n",
    "# # ICD API endpoint\n",
    "# uri = 'https://id.who.int/icd/release/11/2020-09/mms/search?q=XN8LS'\n",
    "# make request           \n",
    "# r = requests.get(uri, headers=headers, verify=False)\n",
    "# # print the result in pretty format\n",
    "# print (json.dumps(r.json(), indent=4))\t"
   ]
  },
  {
   "cell_type": "markdown",
   "metadata": {},
   "source": [
    "Some examples of the response from icd-api\n"
   ]
  },
  {
   "cell_type": "code",
   "execution_count": 8,
   "metadata": {},
   "outputs": [
    {
     "data": {
      "text/plain": [
       "dict_keys(['@context', '@id', 'code', 'stemId', 'stemCode', 'associatedWith'])"
      ]
     },
     "execution_count": 8,
     "metadata": {},
     "output_type": "execute_result"
    }
   ],
   "source": [
    "uri = 'http://id.who.int/icd/release/11/2023-01/mms/codeinfo/1A03.1/MG50.26'\n",
    "r = requests.get(uri, headers=headers, verify=False)\n",
    "# print (json.dumps(r.json(),indent=4))\n",
    "json_response = r.json()\n",
    "json_response.keys()\n",
    "# json_response['code'], json_response['stemId']"
   ]
  },
  {
   "cell_type": "code",
   "execution_count": 9,
   "metadata": {},
   "outputs": [
    {
     "name": "stdout",
     "output_type": "stream",
     "text": [
      "{'@context': 'http://id.who.int/icd/contexts/contextForCodeInfo.json', '@id': 'http://id.who.int/icd/release/11/2023-01/mms/codeinfo/KB24%26XN0KC', 'code': 'KB24&XN0KC', 'stemId': 'http://id.who.int/icd/release/11/2023-01/mms/594985340', 'stemCode': 'KB24', 'infectiousAgent': ['XN0KC']}\n",
      "{\n",
      "    \"@context\": \"http://id.who.int/icd/contexts/contextForCodeInfo.json\",\n",
      "    \"@id\": \"http://id.who.int/icd/release/11/2023-01/mms/codeinfo/KB24%26XN0KC\",\n",
      "    \"code\": \"KB24&XN0KC\",\n",
      "    \"stemId\": \"http://id.who.int/icd/release/11/2023-01/mms/594985340\",\n",
      "    \"stemCode\": \"KB24\",\n",
      "    \"infectiousAgent\": [\n",
      "        \"XN0KC\"\n",
      "    ]\n",
      "}\n"
     ]
    }
   ],
   "source": [
    "uri = 'http://id.who.int/icd/release/11/2023-01/mms/codeinfo/KB24&XN0KC'\n",
    "r = requests.get(uri, headers=headers, verify=False)\n",
    "first_response = r.json()\n",
    "print(first_response)\n",
    "print (json.dumps(r.json(),indent=4))"
   ]
  },
  {
   "cell_type": "markdown",
   "metadata": {},
   "source": [
    "The code defines three functions that retrieve data from the ICD-11 API:\n",
    "\n",
    "1. `get_by_codeinfo(codestring, context)`: This function takes a code string and a context as input, and retrieves additional data about the code from the ICD-11 API using the code string. The function returns a JSON object containing the original code string, the context, and any additional data that was retrieved (such as stemId, laterality, hasManifestation, etc.).\n",
    "\n",
    "2. `get_by_stemid(stemId, context)`: This function takes a stemId and a context as input, and retrieves the code and title associated with the stemId from the ICD-11 API. The function returns a JSON object containing the code, title, and context.\n",
    "\n",
    "3. `get_icd11_description(response_json, context)`: This function takes a JSON object and a context as input, and retrieves additional data about the code from the JSON object. The function checks if the JSON object contains keys for 'stemId', 'laterality', 'hasManifestation', 'hasCausingCondition', 'associatedWith', or 'infectiousAgent', and if so, it calls the `get_by_codeinfo` and `get_by_stemid` functions to retrieve additional data. The function returns a JSON object containing the original data from the JSON object, as well as any additional data that was retrieved.\n",
    "\n",
    "4. the final ouptut is a pandas dataframe with stemId and postcoordination context in separate rows.\n",
    "\n",
    "Note that the code uses the `requests` library to make HTTP requests to the ICD-11 API, and the `json` library to parse JSON data. The code also uses the `headers` variable to specify the headers to be sent with the HTTP requests."
   ]
  },
  {
   "cell_type": "code",
   "execution_count": 10,
   "metadata": {},
   "outputs": [
    {
     "name": "stdout",
     "output_type": "stream",
     "text": [
      "{'context': 'initial', 'code_string': 'KB24&XN0KC', 'stemId': 'http://id.who.int/icd/release/11/2023-01/mms/594985340', 'infectiousAgent': ['XN0KC']}\n"
     ]
    },
    {
     "data": {
      "text/html": [
       "<div>\n",
       "<style scoped>\n",
       "    .dataframe tbody tr th:only-of-type {\n",
       "        vertical-align: middle;\n",
       "    }\n",
       "\n",
       "    .dataframe tbody tr th {\n",
       "        vertical-align: top;\n",
       "    }\n",
       "\n",
       "    .dataframe thead th {\n",
       "        text-align: right;\n",
       "    }\n",
       "</style>\n",
       "<table border=\"1\" class=\"dataframe\">\n",
       "  <thead>\n",
       "    <tr style=\"text-align: right;\">\n",
       "      <th></th>\n",
       "      <th>code_string_orig</th>\n",
       "      <th>context</th>\n",
       "      <th>code</th>\n",
       "      <th>title</th>\n",
       "      <th>code_string</th>\n",
       "      <th>stemId</th>\n",
       "    </tr>\n",
       "  </thead>\n",
       "  <tbody>\n",
       "    <tr>\n",
       "      <th>0</th>\n",
       "      <td>KB24&amp;XN0KC</td>\n",
       "      <td>stemId</td>\n",
       "      <td>KB24</td>\n",
       "      <td>Congenital pneumonia</td>\n",
       "      <td>NaN</td>\n",
       "      <td>NaN</td>\n",
       "    </tr>\n",
       "    <tr>\n",
       "      <th>1</th>\n",
       "      <td>KB24&amp;XN0KC</td>\n",
       "      <td>infectiousAgent</td>\n",
       "      <td>XN0KC</td>\n",
       "      <td>Streptococcus agalactiae</td>\n",
       "      <td>XN0KC</td>\n",
       "      <td>http://id.who.int/icd/release/11/2023-01/mms/1...</td>\n",
       "    </tr>\n",
       "  </tbody>\n",
       "</table>\n",
       "</div>"
      ],
      "text/plain": [
       "  code_string_orig          context   code                     title  \\\n",
       "0       KB24&XN0KC           stemId   KB24      Congenital pneumonia   \n",
       "1       KB24&XN0KC  infectiousAgent  XN0KC  Streptococcus agalactiae   \n",
       "\n",
       "  code_string                                             stemId  \n",
       "0         NaN                                                NaN  \n",
       "1       XN0KC  http://id.who.int/icd/release/11/2023-01/mms/1...  "
      ]
     },
     "execution_count": 10,
     "metadata": {},
     "output_type": "execute_result"
    }
   ],
   "source": [
    "import pandas as pd\n",
    "def get_by_codeinfo(codestring, context) -> json:\n",
    "    uri = f'http://id.who.int/icd/release/11/2023-01/mms/codeinfo/{codestring}'\n",
    "    # print(uri)\n",
    "    r = requests.get(uri, headers=headers, verify=False)\n",
    "    if r.status_code == 200:\n",
    "        response_json = r.json()\n",
    "        # only return code and title from response_json in json format\n",
    "        return_json = {'context' :context, 'code_string' : codestring, }\n",
    "        for key in response_json.keys():\n",
    "            if key in ['stemId', 'laterality', 'hasManifestation', 'hasCausingCondition', 'associatedWith', 'infectiousAgent']:\n",
    "                return_json[key] = response_json[key]\n",
    "        return return_json\n",
    "    else:\n",
    "        return None\n",
    "def get_by_stemid(stemId, context) -> json:\n",
    "    # takes a stemId and returns the code and title\n",
    "    uri = f'http://id.who.int/icd/release/11/2023-01/mms/{stemId}'\n",
    "    r = requests.get(uri, headers=headers, verify=False)\n",
    "\n",
    "    # check if the response keys have code and title keys\n",
    "    if r.status_code == 200 and 'code' in r.json().keys() and 'title' in r.json().keys():\n",
    "        response_json = r.json()\n",
    "        # only return code and title from response_json in json format\n",
    "        return_json = { 'context': context, 'code': response_json['code'], 'title': response_json['title']['@value'],  }\n",
    "        return return_json\n",
    "    else:\n",
    "        return None\n",
    "\n",
    "def get_icd11_description(response_json, context) -> json:\n",
    "    # returns the code and title for the context from the response_json\n",
    "    if context in response_json.keys():\n",
    "        response_json_stemId = {'code_string_orig' : response_json['code_string']} \n",
    "        for i in response_json[context]:\n",
    "            response_json_stemId = { **response_json_stemId,  **get_by_codeinfo(i,context )}\n",
    "            #  extract stemId from the uri\n",
    "            stemId = response_json_stemId['stemId'].split('/')[-1]\n",
    "            response_json_title = { **response_json_stemId,  **get_by_stemid(stemId,context )}\n",
    "        return response_json_title\n",
    "    else:\n",
    "        return None\n",
    "\n",
    "#  run the code for any icd11 code with postcoordination string\n",
    "#  from the icd11 browser https://tinyurl.com/5n7vvc3h\n",
    "#  example: CA40.03&XK9J/1G40\n",
    "#  example response from api call http://id.who.int/icd/release/11/2023-01/mms/codeinfo/CA40.03%26XK9J%2f1G40:\n",
    "# {'@context': 'http://id.who.int/icd/contexts/contextForCodeInfo.json',\n",
    "#  '@id': 'http://id.who.int/icd/release/11/2023-01/mms/codeinfo/CA40.03%26XK9J%2f1G40',\n",
    "#  'code': 'CA40.03&XK9J/1G40',\n",
    "#  'stemId': 'http://id.who.int/icd/release/11/2023-01/mms/1250089989',\n",
    "#  'stemCode': 'CA40.03',\n",
    "#  'laterality': ['XK9J'],\n",
    "#  'hasManifestation': ['1G40']}\n",
    "\n",
    "response_json = None\n",
    "icd11_post_coord = []\n",
    "\n",
    "# set the icd11 string to query\n",
    "# icd11_string = 'CA40.03&XK9J/1G40' #hasManifestation\n",
    "# icd11_string = '1A03.1/MG50.26' ## associatedWith\n",
    "icd11_string = 'KB24&XN0KC' ## InfectiousAgent\n",
    "\n",
    "# get the initial response with stemId and postcoordonation codes\n",
    "response_json = get_by_codeinfo(icd11_string,'initial' ) \n",
    "print(response_json)\n",
    "\n",
    "if 'stemId' in response_json.keys():\n",
    "    # print(response_json['stemId'])\n",
    "    response_json_stemId = {'code_string_orig' : response_json['code_string']}\n",
    "    #  extract stemId from the uri\n",
    "    stemId = response_json['stemId'].split('/')[-1]\n",
    "    response_json_stemId = { **response_json_stemId,  **get_by_stemid(stemId,'stemId' )}\n",
    "    # add to icd11_final list\n",
    "    icd11_post_coord.append(response_json_stemId)\n",
    "    # print(response_json_stemId) \n",
    "\n",
    "\n",
    "# get the response for each postcoordination code\n",
    "for key in response_json.keys():\n",
    "    if key in ['laterality', 'hasManifestation', 'associatedWith', 'hasCausingCondition', 'infectiousAgent']:\n",
    "        response_json_title = get_icd11_description(response_json, key)\n",
    "        if response_json_title is not None:\n",
    "            icd11_post_coord.append(response_json_title)\n",
    "\n",
    "# print(icd11_post_coord)\n",
    "# convert to dataframe\n",
    "icd11_final_df = pd.DataFrame(icd11_post_coord)\n",
    "icd11_final_df.head(10)\n"
   ]
  }
 ],
 "metadata": {
  "kernelspec": {
   "display_name": "champs",
   "language": "python",
   "name": "python3"
  },
  "language_info": {
   "codemirror_mode": {
    "name": "ipython",
    "version": 3
   },
   "file_extension": ".py",
   "mimetype": "text/x-python",
   "name": "python",
   "nbconvert_exporter": "python",
   "pygments_lexer": "ipython3",
   "version": "3.9.16"
  },
  "orig_nbformat": 4
 },
 "nbformat": 4,
 "nbformat_minor": 2
}
